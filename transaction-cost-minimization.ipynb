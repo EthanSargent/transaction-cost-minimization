{
 "cells": [
  {
   "cell_type": "code",
   "execution_count": 1,
   "id": "scientific-champion",
   "metadata": {},
   "outputs": [],
   "source": [
    "import cvxpy as cp\n",
    "import yfinance as yf\n",
    "import numpy as np\n",
    "import datetime\n",
    "import matplotlib.pyplot as plt\n",
    "from tqdm import tqdm\n",
    "from scipy.stats import norm\n",
    "from scipy.linalg import sqrtm"
   ]
  },
  {
   "cell_type": "code",
   "execution_count": 2,
   "id": "prescribed-while",
   "metadata": {},
   "outputs": [],
   "source": [
    "with open(\"tickers.txt\", 'r') as f:\n",
    "    tickers = f.read().splitlines()[:100]"
   ]
  },
  {
   "cell_type": "code",
   "execution_count": 3,
   "id": "mobile-honey",
   "metadata": {},
   "outputs": [
    {
     "name": "stderr",
     "output_type": "stream",
     "text": [
      "100%|██████████| 100/100 [00:15<00:00,  6.47it/s]\n"
     ]
    }
   ],
   "source": [
    "start = \"2020-01-01\"\n",
    "end = \"2020-12-31\"\n",
    "holding_period = 20\n",
    "\n",
    "returns = {}\n",
    "histories = []\n",
    "for ticker in tqdm(tickers):\n",
    "    history = yf.Ticker(ticker).history(start=start, end=end)\n",
    "    histories.append(history)"
   ]
  },
  {
   "cell_type": "markdown",
   "id": "sweet-mailman",
   "metadata": {},
   "source": [
    "## 1. Gather data\n",
    "Compute the historical returns for the top 100 (alphabetical) S&P stocks over 200 random twenty day periods in 2020, & the covariance matrix of these returns."
   ]
  },
  {
   "cell_type": "code",
   "execution_count": 4,
   "id": "criminal-quantity",
   "metadata": {},
   "outputs": [
    {
     "name": "stderr",
     "output_type": "stream",
     "text": [
      "100%|██████████| 1000/1000 [00:42<00:00, 23.48it/s]\n"
     ]
    }
   ],
   "source": [
    "def calc_returns(histories, n, seed=10):\n",
    "    np.random.seed(seed)\n",
    "    return_vecs = []\n",
    "    for _ in tqdm(range(n)):\n",
    "        start_day = np.random.choice(365 - holding_period)\n",
    "        start_stamp = np.datetime64(start) + np.timedelta64(start_day, 'D')\n",
    "        end_stamp = start_stamp + np.timedelta64(holding_period, 'D')\n",
    "        \n",
    "        return_vec = []\n",
    "        for history in histories:\n",
    "            start_index = np.argmax(history.index >= start_stamp)\n",
    "            end_index = np.argmax(history.index >= end_stamp)\n",
    "\n",
    "            start_close, end_close = history.iloc[[start_index, end_index]]['Close'].values\n",
    "            pct_return = end_close/start_close\n",
    "            return_vec.append(pct_return)\n",
    "            \n",
    "        return_vecs.append(return_vec)\n",
    "    return np.asarray(return_vecs)\n",
    "        \n",
    "replicates = 1000\n",
    "returns = calc_returns(histories, replicates)\n",
    "returns = np.append(returns, np.ones((replicates, 1)), 1)\n",
    "full_means = np.mean(returns, axis=0)\n",
    "full_cov = np.cov(returns.T)"
   ]
  },
  {
   "cell_type": "markdown",
   "id": "macro-missouri",
   "metadata": {},
   "source": [
    "Note the outlier `CZR` - this stock cratered in early 2020 but recovered quickly. This outlier will come up later."
   ]
  },
  {
   "cell_type": "code",
   "execution_count": 5,
   "id": "portuguese-aside",
   "metadata": {},
   "outputs": [
    {
     "data": {
      "image/png": "[encoded data removed]",
      "text/plain": [
       "<Figure size 432x288 with 1 Axes>"
      ]
     },
     "metadata": {
      "needs_background": "light"
     },
     "output_type": "display_data"
    }
   ],
   "source": [
    "plt.hist(full_means)\n",
    "plt.title(\"Histogram of mean returns over 20-day holding periods\")\n",
    "plt.show()"
   ]
  },
  {
   "cell_type": "markdown",
   "id": "backed-south",
   "metadata": {},
   "source": [
    "## 2. Minimizing fixed plus linear transaction costs\n",
    "\n",
    "### 2.1 Compute lower and upper bounds on each transaction\n",
    "To compute transaction bounds, we take advantage of the constraint on the variance of portfolio return. The bounds will depend on how much variance we are comfortable with, i.e. $\\sigma$. The upper bound is given by\n",
    "\n",
    "$$\n",
    "\\begin{align*}\n",
    "\\text{maximize} \\quad & x_i\\\\\n",
    "\\text{subject to} \\quad & g(x) = (w + x)^T\\Sigma(w + x) - \\sigma^2 \\leq 0\n",
    "\\end{align*}\n",
    "$$\n",
    "\n",
    "The calculation is omitted in the paper but we do it here for practice. The Lagrangian is\n",
    "\\begin{equation*}\n",
    "L(x, \\lambda) = e_i^T x  - \\lambda((w + x)^T\\Sigma(w + x) - \\sigma^2).\n",
    "\\end{equation*}\n",
    "Maximizing over $x$ yields\n",
    "\\begin{equation*}\n",
    "x = \\frac{\\Sigma^{-1}e_i}{2\\lambda} - w\n",
    "\\end{equation*}\n",
    "Resubstituting into the Lagrangian to eliminate the dependence on $x$ and simplifying, we have\n",
    "\\begin{equation*}\n",
    "L(\\lambda) = \\frac{e_i^T \\Sigma^{-1} e_i}{4\\lambda} - e_i^T w + \\lambda \\sigma^2\n",
    "\\end{equation*}\n",
    "which achieves its maximum at \n",
    "\\begin{equation*}\n",
    "\\lambda = \\frac{\\sqrt{(\\Sigma^{-1})_{ii}}}{2\\sigma}\n",
    "\\end{equation*}\n",
    "so that $x_i = \\sigma\\sqrt{(\\Sigma^{-1})_{ii}} - w_i$ is optimal. Mutatis mutandis, the lower bound is $x_i = -\\sigma\\sqrt{(\\Sigma^{-1})_{ii}} - w_i$. For the lower bound, we use this value or the short selling lower bound, whichever is larger.\n",
    "\n",
    "For this example, we use 10 stocks and one riskless asset, following the paper, so that the global optimum can be computed combinatorially."
   ]
  },
  {
   "cell_type": "markdown",
   "id": "enormous-leather",
   "metadata": {},
   "source": [
    "### 2.2 Solve relaxed problem to get an initial guess\n",
    "Following the paper, we solve\n",
    "$$\n",
    "\\begin{align*}\n",
    "\\text{minimize} \\quad & \\sum_{i=1}^n \\phi_i^{\\text{c.e.}}(x_i)\\\\\n",
    "\\text{subject to} \\quad & \\overline{a}^T(w+x) \\geq r_{\\text{min}}\n",
    "\\end{align*}\n",
    "$$\n",
    "The convex envelope function $\\phi_i^{\\text{c.e.}}$, which is the largest convex function less than or equal to $\\phi_i$, is given by\n",
    "$$\n",
    "\\phi_i^{\\text{c.e.}}(x_i) = \\begin{cases}\n",
    "\\left(\\frac{\\beta_i}{u_i} + \\alpha_i\\right)x_i, & x_i \\geq 0\\\\\n",
    "-\\left(\\frac{\\beta_i}{l_i} + \\alpha_i\\right)x_i, & x_i \\leq 0\n",
    "\\end{cases}\n",
    "$$"
   ]
  },
  {
   "cell_type": "markdown",
   "id": "amazing-dream",
   "metadata": {},
   "source": [
    "### 2.3 Run iterative algorithm\n",
    "\n",
    "Just as in the paper, we find that the algorithm converges in around 4 iterations."
   ]
  },
  {
   "cell_type": "code",
   "execution_count": 6,
   "id": "legitimate-benefit",
   "metadata": {},
   "outputs": [],
   "source": [
    "def setup_params(sigma, indices, full_means, full_cov, short):\n",
    "    # last index is assumed to be that of the riskless asset\n",
    "    n = len(indices)\n",
    "    alpha = np.repeat(.01, n)\n",
    "    alpha[-1] = 0\n",
    "\n",
    "    beta = np.repeat(.01, n)\n",
    "    beta[-1] = 0\n",
    "\n",
    "    s = np.repeat(short[0], n)\n",
    "    s[-1] = short[1]\n",
    "\n",
    "    w = np.repeat(1/n, n)\n",
    "    \n",
    "    delete_indices = list(set(range(len(full_cov))) - set(indices))\n",
    "    cov = np.delete(np.delete(full_cov, delete_indices, axis=1), delete_indices, axis=0)\n",
    "\n",
    "    # compute bounds\n",
    "    u = sigma*np.sqrt(np.diag(np.linalg.inv(cov + 1e-8))) - w\n",
    "    l = np.max(np.vstack([-u - 2*w, s]), axis=0)\n",
    "\n",
    "    a_bar = full_means[indices]\n",
    "    return alpha, beta, s, w, u, l, cov, a_bar"
   ]
  },
  {
   "cell_type": "code",
   "execution_count": 7,
   "id": "acceptable-rental",
   "metadata": {},
   "outputs": [],
   "source": [
    "def iterative_portfolio_optimization(sigma,\n",
    "                                     indices,\n",
    "                                     full_means,\n",
    "                                     full_cov,\n",
    "                                     shortfall_risk_constraints=None,\n",
    "                                     optimize_return=True,\n",
    "                                     r_min=1.01,\n",
    "                                     verbose=False,\n",
    "                                     max_iter=10000,\n",
    "                                     chebyshev=False,\n",
    "                                     tighten=1,\n",
    "                                     short=(.05, .5),\n",
    "                                     dry_run=False):\n",
    "    if shortfall_risk_constraints is None:\n",
    "        shortfall_risk_constraints = []\n",
    "    \n",
    "    alpha, beta, s, w, u, l, cov, a_bar = setup_params(\n",
    "        sigma, indices, full_means, full_cov, short)\n",
    "    \n",
    "    if dry_run:\n",
    "        # solve the problem without transaction costs or the end-period return variance constraint\n",
    "        alpha = 0\n",
    "        beta = 0\n",
    "        sigma = 100\n",
    "    \n",
    "    x = cp.Variable(len(indices))\n",
    "    \n",
    "    # 2.2 compute initial guess\n",
    "    phi_ce_positive_region = cp.maximum(0, cp.multiply(x, (alpha + beta/u)))\n",
    "    phi_ce_negative_region = cp.maximum(0, cp.multiply(x, -(alpha + beta/l)))\n",
    "    phi_ce = cp.maximum(phi_ce_positive_region, phi_ce_negative_region)\n",
    "\n",
    "    constraints = [cp.quad_form(w + x, cov) - sigma**2 <= 0,\n",
    "                   cp.sum(x) + cp.sum(phi_ce) <= 0,\n",
    "                   -s - x - w <= 0]\n",
    "    \n",
    "    for constraint in shortfall_risk_constraints:\n",
    "        eta, W_low = constraint\n",
    "        if chebyshev:\n",
    "            factor = (1 - eta)**(-.5)\n",
    "            factor *= tighten\n",
    "        else:\n",
    "            factor = norm.ppf(eta)\n",
    "        \n",
    "        constraints.append(factor*cp.norm(sqrtm(cov)@(w + x)) <= \n",
    "                         a_bar.T@(w + x) - W_low)\n",
    "\n",
    "    if optimize_return:\n",
    "        objective = cp.Maximize(a_bar.T@(w + x))\n",
    "    else:\n",
    "        objective = cp.Minimize(cp.sum(phi_ce))\n",
    "        constraints.append(a_bar.T@(w + x) >= r_min)\n",
    "\n",
    "    prob = cp.Problem(objective, constraints)\n",
    "    result = prob.solve()\n",
    "\n",
    "    x_k = x.value\n",
    "    if dry_run:\n",
    "        return x_k, a_bar.T@(w + x_k)\n",
    "    \n",
    "    # 2.3 run iterative algorithm\n",
    "    k = 1\n",
    "    delta = .001\n",
    "    tolerance = 1e-8\n",
    "    \n",
    "    if x_k is None:\n",
    "        print(\"Failed to solve initial guess problem\")\n",
    "        return (None, 0)\n",
    "    \n",
    "    if verbose:\n",
    "        print(x_k)\n",
    "\n",
    "    converged = False\n",
    "    while not converged:        \n",
    "        if verbose:\n",
    "            print(f\"Iteration {k}\")\n",
    "        k += 1\n",
    "\n",
    "        x = cp.Variable(len(indices))\n",
    "        phi_hat_k = cp.multiply(cp.abs(x), alpha + beta/(np.abs(x_k) + delta))\n",
    "        \n",
    "        constraints = [cp.quad_form(w + x, cov) - sigma**2 <= 0,\n",
    "                       cp.sum(x) + cp.sum(phi_hat_k) <= 0,\n",
    "                       -s - x - w <= 0]\n",
    "\n",
    "        if optimize_return:\n",
    "            objective = cp.Maximize(a_bar.T@(w + x))\n",
    "        else:\n",
    "            objective = cp.Minimize(cp.sum(phi_hat_k))\n",
    "            constraints.append(a_bar.T@(w + x) >= r_min)\n",
    "            \n",
    "        for constraint in shortfall_risk_constraints:\n",
    "            if chebyshev:\n",
    "                factor = (1 - eta)**(-.5)\n",
    "                factor *= tighten\n",
    "            else:\n",
    "                factor = norm.ppf(eta)\n",
    "\n",
    "            eta, W_low = constraint\n",
    "            constraints.append(factor*cp.norm(sqrtm(cov)@(w + x)) <= \n",
    "                             a_bar.T@(w + x) - W_low)\n",
    "            \n",
    "        prob = cp.Problem(objective, constraints)\n",
    "        result = prob.solve()\n",
    "\n",
    "        x_k_plus_1 = x.value\n",
    "        if x_k_plus_1 is None or k > max_iter:\n",
    "            # if the problem becomes infeasible, return the answer for the last feasible iteration\n",
    "            print(\"Iterative scheme was infeasible; use with caution\")\n",
    "            return (x_k, a_bar.T@(w + x_k))\n",
    "\n",
    "        if np.sum(np.abs(x_k_plus_1 - x_k)) <= tolerance:\n",
    "            converged=True\n",
    "        else:\n",
    "            x_k = x_k_plus_1\n",
    "            \n",
    "    return x_k_plus_1, a_bar.T@(w + x_k_plus_1)"
   ]
  },
  {
   "cell_type": "markdown",
   "id": "dated-broadcast",
   "metadata": {},
   "source": [
    "When we maximize return, we go short in many other assets, in addition to the riskless asset, to finance increased risk in the high return asset."
   ]
  },
  {
   "cell_type": "code",
   "execution_count": 8,
   "id": "indonesian-argentina",
   "metadata": {},
   "outputs": [
    {
     "data": {
      "text/plain": [
       "(array([ 1.45206035e-12,  2.90226586e-12,  5.75174505e-01,  2.38696585e-12,\n",
       "         2.26582258e-12,  3.60000915e-12,  2.88137126e-12,  1.26905490e-12,\n",
       "         2.09990952e-12,  2.04169773e-12, -5.90908885e-01]),\n",
       " 1.0120549327649297)"
      ]
     },
     "execution_count": 8,
     "metadata": {},
     "output_type": "execute_result"
    }
   ],
   "source": [
    "indices = list(range(90,101))\n",
    "maximum_return_allocation, best_return = iterative_portfolio_optimization(.2, indices, full_means, full_cov, optimize_return=True)\n",
    "maximum_return_allocation, best_return"
   ]
  },
  {
   "cell_type": "markdown",
   "id": "bound-breakdown",
   "metadata": {},
   "source": [
    "### 2.4 Combinatorial Solution\n",
    "With just 10 stocks, we can solve the problem combinatorially and compare the solution that we know to be optimal with the heuristic solution."
   ]
  },
  {
   "cell_type": "code",
   "execution_count": 9,
   "id": "horizontal-arthur",
   "metadata": {
    "scrolled": true
   },
   "outputs": [],
   "source": [
    "from itertools import chain, combinations\n",
    "def powerset(iterable):\n",
    "    \"powerset([1,2,3]) --> () (1,) (2,) (3,) (1,2) (1,3) (2,3) (1,2,3)\"\n",
    "    s = list(iterable)\n",
    "    return chain.from_iterable(combinations(s, r) for r in range(len(s)+1))\n",
    "\n",
    "def compute_true_optimum(sigma,\n",
    "                         indices,\n",
    "                         full_means,\n",
    "                         full_cov,\n",
    "                         shortfall_risk_constraints=None,\n",
    "                         chebyshev=False,\n",
    "                         short=(.05, .5),\n",
    "                         verbose=False):\n",
    "    # to compute the true optimum, we solve 2^10 convex optimization problems\n",
    "    alpha, beta, s, w, u, l, cov, a_bar = setup_params(sigma, indices, full_means, full_cov, short)\n",
    "    transact_in = powerset(list(range(10)))\n",
    "    \n",
    "    if shortfall_risk_constraints is None:\n",
    "        shortfall_risk_constraints = []\n",
    "    \n",
    "    best = (None, 0)\n",
    "    \n",
    "    if verbose:\n",
    "        transact_in = tqdm(transact_in)\n",
    "    \n",
    "    for transact_indices in transact_in:        \n",
    "        # we always have the option to transact in the riskless asset\n",
    "        transact_indices = list(transact_indices)\n",
    "        transact_indices.append(10)\n",
    "        \n",
    "        x = cp.Variable(len(transact_indices))\n",
    "        \n",
    "        mask = np.zeros(11, dtype=bool)\n",
    "        mask[transact_indices] = True\n",
    "        \n",
    "        a_bar_transact = a_bar[mask]\n",
    "        alpha_transact = alpha[mask]\n",
    "        beta_transact = beta[mask]\n",
    "        s_transact = s[mask]\n",
    "        w_transact = w[mask]\n",
    "        \n",
    "        design = np.zeros((11,len(transact_indices)))\n",
    "        for i in range(len(transact_indices)):\n",
    "            design[transact_indices[i]][i] = 1\n",
    "        \n",
    "        objective = cp.Maximize(a_bar.T@(w + design@x))\n",
    "        constraints = [cp.sum(x) + cp.sum(cp.multiply(cp.abs(x), alpha_transact)) +\\\n",
    "                       (len(transact_indices) - 1)*beta[0] <= 0]\n",
    "        constraints.append(-s_transact - (x + w_transact) <= 0)\n",
    "        constraints.append(cp.quad_form(w + design@x, cov) - sigma**2 <= 0)\n",
    "        \n",
    "        for constraint in shortfall_risk_constraints:\n",
    "            eta, W_low = constraint\n",
    "            if chebyshev:\n",
    "                factor = (1 - eta)**(-.5)\n",
    "            else:\n",
    "                factor = norm.ppf(eta)\n",
    "            \n",
    "            constraints.append(factor*cp.norm(sqrtm(cov)@(w + x)) <= \n",
    "                             a_bar.T@(w + x) - W_low)\n",
    "\n",
    "        prob = cp.Problem(objective, constraints)\n",
    "        result = prob.solve()\n",
    "        \n",
    "        if x.value is None:\n",
    "            continue\n",
    "        \n",
    "        cur_return = a_bar.T@(w + design@x.value)\n",
    "        if cur_return > best[-1]:\n",
    "            best = (design@x.value, a_bar.T@(w + design@x.value))\n",
    "            \n",
    "    return best"
   ]
  },
  {
   "cell_type": "markdown",
   "id": "buried-columbia",
   "metadata": {},
   "source": [
    "### 2.5 Compute tradeoff between maximum average return and acceptable risk"
   ]
  },
  {
   "cell_type": "code",
   "execution_count": 10,
   "id": "frozen-sending",
   "metadata": {},
   "outputs": [
    {
     "name": "stderr",
     "output_type": "stream",
     "text": [
      "  0%|          | 0/10 [00:00<?, ?it/s]/usr/local/lib/python3.9/site-packages/cvxpy/problems/problem.py:1278: UserWarning: Solution may be inaccurate. Try another solver, adjusting the solver settings, or solve with verbose=True for more information.\n",
      "  warnings.warn(\n",
      "100%|██████████| 10/10 [00:21<00:00,  2.12s/it]\n"
     ]
    }
   ],
   "source": [
    "# to get a nicer looking plot, increase this number - takes about 15s to compute each\n",
    "# optimal solution on my PC - heuristic is comparatively very fast (< 1s per solution)\n",
    "num_sigmas = 10 \n",
    "indices = list(range(90, 101))\n",
    "sigmas = np.linspace(0, .4, num_sigmas)\n",
    "\n",
    "heuristic_results = [iterative_portfolio_optimization(\n",
    "    sigma, indices, full_means, full_cov, optimize_return=True, verbose=False)\n",
    "           for sigma in tqdm(sigmas)]\n",
    "\n",
    "heuristic_allocations, heuristic_returns = zip(*heuristic_results)"
   ]
  },
  {
   "cell_type": "code",
   "execution_count": 11,
   "id": "shaped-ballot",
   "metadata": {},
   "outputs": [
    {
     "name": "stderr",
     "output_type": "stream",
     "text": [
      "100%|██████████| 10/10 [02:43<00:00, 16.37s/it]\n"
     ]
    }
   ],
   "source": [
    "optimal_results = [compute_true_optimum(sigma, indices, full_means, full_cov)\n",
    "                       for sigma in tqdm(sigmas)]\n",
    "\n",
    "optimal_allocations, optimal_returns = zip(*optimal_results)"
   ]
  },
  {
   "cell_type": "code",
   "execution_count": 12,
   "id": "united-rubber",
   "metadata": {},
   "outputs": [
    {
     "data": {
      "image/png": "[encoded data removed]",
      "text/plain": [
       "<Figure size 432x288 with 1 Axes>"
      ]
     },
     "metadata": {
      "needs_background": "light"
     },
     "output_type": "display_data"
    }
   ],
   "source": [
    "import matplotlib.pyplot as plt\n",
    "plt.plot(sigmas, heuristic_returns, label= \"Heuristic Returns\")\n",
    "plt.plot(sigmas, optimal_returns, label=\"Combinatorial (Provably Optimal) Returns\")\n",
    "plt.legend()\n",
    "plt.title(\"Comparison of heuristic expected return vs. optimal expected return\")\n",
    "plt.xlabel(\"sigma\")\n",
    "plt.ylabel(\"Expected return\")\n",
    "plt.show()"
   ]
  },
  {
   "cell_type": "markdown",
   "id": "binding-wrist",
   "metadata": {},
   "source": [
    "## 2.6 Role of the short position constraint\n",
    "Note that for our holdings in each risky asset $i$ we have a short constraint $w_i + x_i \\geq -.05$, and for the riskless asset $w_i + x_i \\geq -.5$. We see in the above return tradeoff curves that the optimal return flatlines after a certain point - this is because, even allowing massive final return variance, we cannot increase our risk (and thus our return) without deepening our short positions in the riskless asset or in stocks with meager return.\n",
    "\n",
    "Note that double the maximum short position in each stock ($.05 \\to .1$) and riskless asset ($.5 \\to 1$), the curve flattens later."
   ]
  },
  {
   "cell_type": "code",
   "execution_count": 13,
   "id": "stuck-storage",
   "metadata": {},
   "outputs": [
    {
     "name": "stderr",
     "output_type": "stream",
     "text": [
      "  0%|          | 0/10 [00:00<?, ?it/s]/usr/local/lib/python3.9/site-packages/cvxpy/problems/problem.py:1278: UserWarning: Solution may be inaccurate. Try another solver, adjusting the solver settings, or solve with verbose=True for more information.\n",
      "  warnings.warn(\n",
      " 30%|███       | 3/10 [02:22<04:18, 36.89s/it] "
     ]
    },
    {
     "name": "stdout",
     "output_type": "stream",
     "text": [
      "Iterative scheme was infeasible; use with caution\n"
     ]
    },
    {
     "name": "stderr",
     "output_type": "stream",
     "text": [
      "100%|██████████| 10/10 [02:22<00:00, 14.28s/it]\n"
     ]
    }
   ],
   "source": [
    "heuristic_results_deepshort = [iterative_portfolio_optimization(\n",
    "    sigma, indices, full_means, full_cov, optimize_return=True, short=(.1, 1), verbose=False)\n",
    "           for sigma in tqdm(sigmas)]\n",
    "\n",
    "heuristic_allocations_deepshort, heuristic_returns_deepshort = zip(*heuristic_results_deepshort)"
   ]
  },
  {
   "cell_type": "code",
   "execution_count": 14,
   "id": "residential-spread",
   "metadata": {},
   "outputs": [
    {
     "data": {
      "image/png": "[encoded data removed]",
      "text/plain": [
       "<Figure size 432x288 with 1 Axes>"
      ]
     },
     "metadata": {
      "needs_background": "light"
     },
     "output_type": "display_data"
    }
   ],
   "source": [
    "plt.plot(sigmas, heuristic_returns_deepshort, label=\"Max short positions: (.1, 1)\")\n",
    "plt.plot(sigmas, heuristic_returns, label=\"Max short positions: (.05, .5)\")\n",
    "plt.title(\"Heuristic expected return with different short constraints\")\n",
    "plt.xlabel(\"sigma\")\n",
    "plt.ylabel(\"Expected return\")\n",
    "plt.legend()\n",
    "plt.show()"
   ]
  },
  {
   "cell_type": "markdown",
   "id": "original-worker",
   "metadata": {},
   "source": [
    "## 2.7 Sensitivity Analysis\n",
    "Above we arbitrarily selected the last 10 stocks in the top 100 alphabetical stocks of the S&P 500. How much do optimal returns for a given variance depend on the bundle of stocks we start with? I.e., pick 10 stocks at random from the top 100? Answer: a lot"
   ]
  },
  {
   "cell_type": "code",
   "execution_count": 15,
   "id": "clinical-insured",
   "metadata": {},
   "outputs": [
    {
     "name": "stderr",
     "output_type": "stream",
     "text": [
      "100%|██████████| 100/100 [00:09<00:00, 10.33it/s]\n"
     ]
    }
   ],
   "source": [
    "num_stock_choices = 100\n",
    "\n",
    "best_returns = []\n",
    "best_allocations = []\n",
    "indices_choices = []\n",
    "for i in tqdm(range(num_stock_choices)):\n",
    "    random_indices = np.random.choice(100, 10, replace=False).tolist() + [100]\n",
    "    maximum_return_allocation, best_return = iterative_portfolio_optimization(\n",
    "        .2, random_indices, full_means, full_cov, optimize_return=True, verbose=False)\n",
    "    best_returns.append(best_return)\n",
    "    best_allocations.append(maximum_return_allocation)\n",
    "    indices_choices.append(random_indices)"
   ]
  },
  {
   "cell_type": "markdown",
   "id": "loaded-plumbing",
   "metadata": {},
   "source": [
    "Note the wide variance as well as the outliers around $.19$ - we find that all the outlier portfolios have `CZR` (77) and the riskless asset (100) (and no other assets) in common - `CZR` has an abnormally high return, probably due to having cratered in early 2020 and then recovered."
   ]
  },
  {
   "cell_type": "code",
   "execution_count": 16,
   "id": "veterinary-moral",
   "metadata": {},
   "outputs": [
    {
     "data": {
      "image/png": "[encoded data removed]",
      "text/plain": [
       "<Figure size 432x288 with 1 Axes>"
      ]
     },
     "metadata": {
      "needs_background": "light"
     },
     "output_type": "display_data"
    }
   ],
   "source": [
    "plt.hist(best_returns)\n",
    "plt.title(\"Histogram of best returns found at sigma=.2 for randomly chosen stock bundles\")\n",
    "plt.show()"
   ]
  },
  {
   "cell_type": "code",
   "execution_count": 17,
   "id": "strong-fighter",
   "metadata": {},
   "outputs": [
    {
     "data": {
      "text/plain": [
       "[(100, 10), (77, 10)]"
      ]
     },
     "execution_count": 17,
     "metadata": {},
     "output_type": "execute_result"
    }
   ],
   "source": [
    "from functools import reduce\n",
    "from collections import Counter\n",
    "reduce(lambda x, y: Counter(x) + Counter(y),\n",
    "       [set(indices_choices[i]) for i in np.where(np.asarray(best_returns) > 1.04)[0]]).most_common(2)"
   ]
  },
  {
   "cell_type": "markdown",
   "id": "proper-eclipse",
   "metadata": {},
   "source": [
    "## 3. Shortfall Constraints\n",
    "### 3.1 Normally distributed returns\n",
    "When we assume that the returns are normally distributed, the paper notes that \"end of period wealth is a Gaussian random variable.\" So we can impose a shortfall constraint, i.e. a constraint which specifies that the end of period wealth exceed some undesired level $W_{\\text{low}}$ with probability $\\eta$. The constraint is\n",
    "$$\n",
    "\\Pr \\left(\\frac{W - \\mu}{\\sigma} \\leq \\frac{W_{\\text{low}} - \\mu}{\\sigma} \\right) \\leq 1 - \\eta.\n",
    "$$\n",
    "Since $(W - \\mu)/\\sigma$ is a normally distributed Gaussian variable, the LHS is just $\\Phi\\left(\\frac{W_{\\text{low}} - \\mu}{\\sigma}\\right)$, where $\\Phi$ is the Gaussian CDF. Then taking the inverse CDF of both sides, the constraint is\n",
    "$$\n",
    "\\frac{W_{\\text{low}} - \\mu}{\\sigma} \\leq \\Phi^{-1}(1 - \\eta)\n",
    "$$\n",
    "or equivalently\n",
    "$$\n",
    "\\mu - W_{\\text{low}} \\geq \\Phi^{-1}(\\eta)\\sigma.\n",
    "$$\n",
    "Susbstituting $\\mu = \\overline{a}^T(w + x)$ and $\\sigma^2 = (w + x)^T\\Sigma(w + x)$, we get\n",
    "$$\n",
    "\\overline{a}^T(w + x) - W_{\\text{low}} \\geq \\Phi^{-1}(\\eta) \\|\\Sigma^{1/2}(w + x)\\|_2,\n",
    "$$\n",
    "which is a second order cone constraint.\n",
    "\n",
    "Following the paper, we start off with two shortfall risk constraints, a modestly confident constraint on a low return and a very confident constraint on a \"disastrous\" return.\n",
    "$$\n",
    "\\eta_1 = .8,\\quad W_1^{\\text{low}} = .8; \\text{ and }\\eta_2 = .97, W_2^{\\text{low}} = .7\n",
    "$$"
   ]
  },
  {
   "cell_type": "code",
   "execution_count": 18,
   "id": "dried-radius",
   "metadata": {
    "scrolled": true
   },
   "outputs": [
    {
     "data": {
      "text/plain": [
       "(array([6.43588811e-13, 7.25092714e-13, 6.86439117e-13, 6.54279921e-13,\n",
       "        7.22761376e-13, 6.83100428e-13, 6.95030410e-13, 6.15048609e-13,\n",
       "        6.78609850e-13, 6.82103673e-13, 3.57746896e-10]),\n",
       " 1.0089791008813196)"
      ]
     },
     "execution_count": 18,
     "metadata": {},
     "output_type": "execute_result"
    }
   ],
   "source": [
    "indices = list(range(90,101))\n",
    "iterative_portfolio_optimization(\n",
    "    .2,\n",
    "    indices,\n",
    "    full_means,\n",
    "    full_cov,\n",
    "    shortfall_risk_constraints=[(.8, .8), (.97, .7)],\n",
    "    optimize_return=True)"
   ]
  },
  {
   "cell_type": "markdown",
   "id": "christian-antarctica",
   "metadata": {},
   "source": [
    "We can also ask how increasing the confidence of a shortfall constraint affects optimal return."
   ]
  },
  {
   "cell_type": "code",
   "execution_count": 19,
   "id": "alleged-chess",
   "metadata": {},
   "outputs": [
    {
     "data": {
      "image/png": "[encoded data removed]",
      "text/plain": [
       "<Figure size 432x288 with 1 Axes>"
      ]
     },
     "metadata": {
      "needs_background": "light"
     },
     "output_type": "display_data"
    }
   ],
   "source": [
    "etas = np.linspace(.75,.85, 30)\n",
    "shortfall_results = [iterative_portfolio_optimization(\n",
    "    .2,\n",
    "    indices,\n",
    "    full_means,\n",
    "    full_cov,\n",
    "    shortfall_risk_constraints=[(eta, .9)],\n",
    "    optimize_return=True) for eta in etas]\n",
    "                     \n",
    "shortfall_allocations, shortfall_returns = zip(*shortfall_results)\n",
    "\n",
    "plt.plot(etas, shortfall_returns)\n",
    "plt.xlabel(\"Guaranteed probability that return is above .8\")\n",
    "plt.ylabel(\"Expected return\")\n",
    "plt.show()"
   ]
  },
  {
   "cell_type": "markdown",
   "id": "adjacent-acquisition",
   "metadata": {},
   "source": [
    "Finally, we can ask how the addition of a shortfall constraint affects the optimal return for different values of $\\sigma$."
   ]
  },
  {
   "cell_type": "markdown",
   "id": "northern-timber",
   "metadata": {},
   "source": [
    "The fact that the two curves coincide, then diverge is not surprising, since there is a correspondence between shortfall constraints and constraints on the variance of the final return. If we allow the variance to increase, then the portfolios diverge because the variance constraint no longer dominates the shortfall constraint."
   ]
  },
  {
   "cell_type": "code",
   "execution_count": 20,
   "id": "pursuant-death",
   "metadata": {},
   "outputs": [
    {
     "name": "stderr",
     "output_type": "stream",
     "text": [
      "100%|██████████| 10/10 [00:00<00:00, 11.46it/s]\n"
     ]
    },
    {
     "data": {
      "image/png": "[encoded data removed]",
      "text/plain": [
       "<Figure size 432x288 with 1 Axes>"
      ]
     },
     "metadata": {
      "needs_background": "light"
     },
     "output_type": "display_data"
    }
   ],
   "source": [
    "sigmas_wide = np.linspace(.05, .3, 10)\n",
    "shortfall_results_wide = [iterative_portfolio_optimization(\n",
    "    sigma,\n",
    "    indices,\n",
    "    full_means,\n",
    "    full_cov,\n",
    "    shortfall_risk_constraints=[(.8, .9)],\n",
    "    optimize_return=True) for sigma in sigmas_wide]\n",
    "shortfall_allocations_wide, shortfall_returns_wide = zip(*shortfall_results_wide)\n",
    "\n",
    "heuristic_results_wide = [iterative_portfolio_optimization(\n",
    "    sigma,\n",
    "    indices,\n",
    "    full_means,\n",
    "    full_cov,\n",
    "    optimize_return=True,\n",
    "    verbose=False) for sigma in tqdm(sigmas_wide)]\n",
    "heuristic_allocations_wide, heuristic_returns_wide = zip(*heuristic_results_wide)\n",
    "\n",
    "plt.plot(sigmas_wide, shortfall_returns_wide, label=\"With Shortfall Constraint\")\n",
    "plt.plot(sigmas_wide, heuristic_returns_wide, label=\"Without Shortfall Constraint\")\n",
    "plt.xlabel(\"sigma\")\n",
    "plt.ylabel(\"Expected return\")\n",
    "plt.title(\"Heuristic return with vs. without shortfall risk constraint\")\n",
    "plt.legend()\n",
    "plt.show()"
   ]
  },
  {
   "cell_type": "markdown",
   "id": "micro-wages",
   "metadata": {},
   "source": [
    "### 3.2 Investigating the normality assumption\n",
    "The shortfall constraint relies on the assumption that the returns for a given stock over an arbitrary 20 day holding period are normally distributed. As the paper authors indicate, this is dubious - they write, \"\"observed returns are seldom Gaussian. They are often skewed, or have \"fat tails\", i.e. resemble a Gaussian distribution in the central area but have higher probability mass for high deviations.\n",
    "\n",
    "Suppose we are generous and exclude the outlier `CZR` from our analysis. One way to test for normality of a given stock would be to generate normally distributed data with the same mean and variance as one of our stocks, then check what percentage of the time this sample has kurtosis (a measure of fat-tailedness) as or more extreme than the stock's data."
   ]
  },
  {
   "cell_type": "code",
   "execution_count": 21,
   "id": "sudden-nightmare",
   "metadata": {},
   "outputs": [
    {
     "data": {
      "image/png": "[encoded data removed]",
      "text/plain": [
       "<Figure size 720x288 with 2 Axes>"
      ]
     },
     "metadata": {
      "needs_background": "light"
     },
     "output_type": "display_data"
    }
   ],
   "source": [
    "stock_choice = 3\n",
    "stock = returns[:,stock_choice]\n",
    "mean = full_means[stock_choice]\n",
    "variance = full_cov[stock_choice][stock_choice]\n",
    "\n",
    "plt.subplots(figsize=(10,4))\n",
    "plt.subplot(1,2,1)\n",
    "plt.hist(stock)\n",
    "plt.title(\"Histogram of real return data\")\n",
    "\n",
    "plt.subplot(1,2,2)\n",
    "replicate = np.random.normal(mean, np.sqrt(variance), size=1000)\n",
    "plt.hist(replicate)\n",
    "plt.title(\"Histogram of synthetic data\")\n",
    "\n",
    "plt.show()"
   ]
  },
  {
   "cell_type": "markdown",
   "id": "accompanied-scene",
   "metadata": {},
   "source": [
    "For some stocks the difference is clearer than others."
   ]
  },
  {
   "cell_type": "code",
   "execution_count": 22,
   "id": "enabling-brooklyn",
   "metadata": {},
   "outputs": [
    {
     "name": "stderr",
     "output_type": "stream",
     "text": [
      "100%|██████████| 100/100 [00:20<00:00,  4.79it/s]\n"
     ]
    }
   ],
   "source": [
    "from scipy.stats import kurtosis, percentileofscore\n",
    "\n",
    "percentiles = []\n",
    "for stock_choice in tqdm(range(100)):\n",
    "    stock = returns[:,stock_choice]\n",
    "    mean = full_means[stock_choice]\n",
    "    variance = full_cov[stock_choice][stock_choice]\n",
    "    kurtosis_reps = []\n",
    "    for i in range(1000):\n",
    "        replicate = np.random.normal(mean, np.sqrt(variance), size=len(stock))\n",
    "        kurtosis_reps.append(kurtosis(replicate))\n",
    "\n",
    "    percentiles.append(percentileofscore(kurtosis_reps, kurtosis(stock)))"
   ]
  },
  {
   "cell_type": "markdown",
   "id": "happy-kennedy",
   "metadata": {},
   "source": [
    "For most stocks, the 20-day-return data's kurtosis is within the 90th-100th percentile of normally-distributed replicates with the same mean and variance. So not only are the data not normal, but our current shortfall constraints are particularly useless because our data have such fat tails."
   ]
  },
  {
   "cell_type": "code",
   "execution_count": 23,
   "id": "appropriate-brush",
   "metadata": {},
   "outputs": [
    {
     "data": {
      "image/png": "[encoded data removed]",
      "text/plain": [
       "<Figure size 432x288 with 1 Axes>"
      ]
     },
     "metadata": {
      "needs_background": "light"
     },
     "output_type": "display_data"
    }
   ],
   "source": [
    "plt.hist(percentiles, bins=50)\n",
    "plt.title(\"Kurtosis percentile of the real data\")\n",
    "plt.show()"
   ]
  },
  {
   "cell_type": "markdown",
   "id": "veterinary-germany",
   "metadata": {},
   "source": [
    "### 3.3 Chebyshev Bound"
   ]
  },
  {
   "cell_type": "markdown",
   "id": "chinese-capitol",
   "metadata": {},
   "source": [
    "Assuming $W_{\\text{low}} \\leq \\mu$, we have\n",
    "$$\n",
    "\\Pr(W \\leq W_{\\text{low}}) \\leq \\Pr(|W - \\mu| \\geq |W_{\\text{low}} - \\mu|)\n",
    "$$\n",
    "so that by Chebyshev's inequality,\n",
    "$$\n",
    "\\Pr(W \\leq W_{\\text{low}}) \\leq \\frac{\\sigma^2}{(W_{\\text{low}} - \\mu)^2}.\n",
    "$$\n",
    "We bound the LHS above by $1 - \\eta$ - substituting for $\\sigma$ and $\\mu$, rearranging, and taking the square root of both sides, we get\n",
    "$$\n",
    "(1 - \\eta)^{-1/2} \\| \\Sigma^{1/2} (w + x)\\| \\leq \\overline{a}^T(w + x) - W_{\\text{low}}.\n",
    "$$"
   ]
  },
  {
   "cell_type": "code",
   "execution_count": 24,
   "id": "atomic-consolidation",
   "metadata": {},
   "outputs": [
    {
     "name": "stderr",
     "output_type": "stream",
     "text": [
      "100%|██████████| 30/30 [00:02<00:00, 10.89it/s]\n"
     ]
    }
   ],
   "source": [
    "sigmas_wide = np.linspace(.05,.3,30)\n",
    "shortfall_results_chebyshev = [iterative_portfolio_optimization(\n",
    "    sigma,\n",
    "    indices,\n",
    "    full_means,\n",
    "    full_cov,\n",
    "    shortfall_risk_constraints=[(.8, .8)],\n",
    "    chebyshev=True,\n",
    "    optimize_return=True) for sigma in sigmas_wide]\n",
    "shortfall_allocations_chebyshev, shortfall_returns_chebyshev = zip(*shortfall_results_chebyshev)\n",
    "\n",
    "shortfall_results_normal = [iterative_portfolio_optimization(\n",
    "    sigma,\n",
    "    indices,\n",
    "    full_means,\n",
    "    full_cov,\n",
    "    shortfall_risk_constraints=[(.8, .8)],\n",
    "    optimize_return=True) for sigma in sigmas_wide]\n",
    "shortfall_allocations_normal, shortfall_returns_normal = zip(*shortfall_results_normal)\n",
    "\n",
    "heuristic_results_wide = [iterative_portfolio_optimization(\n",
    "    sigma,\n",
    "    indices,\n",
    "    full_means,\n",
    "    full_cov,\n",
    "    optimize_return=True) for sigma in tqdm(sigmas_wide)]\n",
    "heuristic_allocations_wide, heuristic_returns_wide = zip(*heuristic_results_wide)"
   ]
  },
  {
   "cell_type": "markdown",
   "id": "controversial-induction",
   "metadata": {},
   "source": [
    "Note that for comparable $(\\eta, W_{\\text{low}})$ pairs, the Chebyshev shortfall constraint is stricter than the normal shortfall constraint."
   ]
  },
  {
   "cell_type": "code",
   "execution_count": 25,
   "id": "pretty-hunter",
   "metadata": {},
   "outputs": [
    {
     "data": {
      "image/png": "[encoded data removed]",
      "text/plain": [
       "<Figure size 432x288 with 1 Axes>"
      ]
     },
     "metadata": {
      "needs_background": "light"
     },
     "output_type": "display_data"
    }
   ],
   "source": [
    "plt.plot(sigmas_wide, shortfall_returns_chebyshev, label=\"Chebyshev Shortfall Constraint\")\n",
    "plt.plot(sigmas_wide, shortfall_returns_normal, label=\"Normal Shortfall Constraint\")\n",
    "plt.xlabel(\"sigma\")\n",
    "plt.ylabel(\"Expected return\")\n",
    "plt.title(\"Chebyshev vs. Normal Shortfall Constraints\")\n",
    "plt.legend()\n",
    "\n",
    "plt.show()"
   ]
  },
  {
   "cell_type": "code",
   "execution_count": 26,
   "id": "illegal-comfort",
   "metadata": {},
   "outputs": [
    {
     "data": {
      "image/png": "[encoded data removed]",
      "text/plain": [
       "<Figure size 1080x360 with 2 Axes>"
      ]
     },
     "metadata": {
      "needs_background": "light"
     },
     "output_type": "display_data"
    }
   ],
   "source": [
    "plt.subplots(figsize=(15,5))\n",
    "plt.subplot(1,2,1)\n",
    "plt.plot(sigmas_wide, shortfall_returns_chebyshev, label=\"Chebyshev Shortfall Constraint\")\n",
    "plt.plot(sigmas_wide, heuristic_returns_wide, label=\"Without Shortfall Constraint\")\n",
    "plt.legend()\n",
    "\n",
    "plt.subplot(1,2,2)\n",
    "plt.plot(sigmas_wide, shortfall_returns_normal, label=\"Normal Shortfall Constraint\")\n",
    "plt.plot(sigmas_wide, heuristic_returns_wide, label=\"Without Shortfall Constraint\")\n",
    "plt.legend()\n",
    "plt.show()"
   ]
  },
  {
   "cell_type": "markdown",
   "id": "expanded-times",
   "metadata": {},
   "source": [
    "Right now we claim to be able to get around 1% return at $\\sigma=.2$. However, since the sample returns are draws from a random distribution, this is just an estimate. In particular, the shortfall constraint could be too lenient, or too harsh, depending on whether the samples we drew were representative of the distribution. (While many parts of of our solution depend on values estimated from sample data which are thus uncertain, we draw attention to the shortfall constraint because it seems particularly likely to lull us into a false sense of security.)\n",
    "\n",
    "To get an idea of the uncertainty in the optimal return we can claim for a particular set of stocks, one strategy would be to repeatedly solve the problem with a bootstrap replicate of the original return data."
   ]
  },
  {
   "cell_type": "code",
   "execution_count": 27,
   "id": "ecological-index",
   "metadata": {
    "scrolled": true
   },
   "outputs": [
    {
     "name": "stderr",
     "output_type": "stream",
     "text": [
      "100%|██████████| 100/100 [00:13<00:00,  7.27it/s]\n"
     ]
    }
   ],
   "source": [
    "results = []\n",
    "for _ in tqdm(range(100)):\n",
    "    returns_replicate = np.asarray([np.random.choice(returns[:,i], len(returns), replace=True)\n",
    "                                    for i in range(len(returns[0]))]).T\n",
    "    full_means_replicate = np.mean(returns_replicate, axis=0)\n",
    "    full_cov_replicate = np.cov(returns_replicate.T)\n",
    "\n",
    "    results.append(iterative_portfolio_optimization(\n",
    "        .2,\n",
    "        indices,\n",
    "        full_means_replicate,\n",
    "        full_cov_replicate,\n",
    "        shortfall_risk_constraints=[(.8, .8)],\n",
    "        chebyshev=True,\n",
    "        optimize_return=True))\n",
    "    \n",
    "bootstrap_allocations, bootstrap_returns = zip(*results)"
   ]
  },
  {
   "cell_type": "markdown",
   "id": "electrical-captain",
   "metadata": {},
   "source": [
    "If the boostrap approach is valid, then it appears that the return of 1% we saw above is fairly typical. So for these stocks, this strategy would net on average a 1% return over twenty days (12% annualized), with roughly 80% confidence that the portfolio return will not dip below .8"
   ]
  },
  {
   "cell_type": "code",
   "execution_count": 28,
   "id": "perceived-valve",
   "metadata": {},
   "outputs": [
    {
     "data": {
      "image/png": "[encoded data removed]",
      "text/plain": [
       "<Figure size 720x360 with 2 Axes>"
      ]
     },
     "metadata": {
      "needs_background": "light"
     },
     "output_type": "display_data"
    }
   ],
   "source": [
    "plt.subplots(figsize=(10,5))\n",
    "plt.subplot(1,2,1)\n",
    "plt.hist(bootstrap_returns)\n",
    "plt.title(\"Distribution of optimal returns\")\n",
    "\n",
    "plt.subplot(1,2,2)\n",
    "return_mean_replicates = []\n",
    "for _ in range(100):\n",
    "    return_mean_replicate = np.mean(np.random.choice(bootstrap_returns, 100, replace=True))\n",
    "    return_mean_replicates.append(return_mean_replicate)\n",
    "plt.hist(return_mean_replicates)\n",
    "plt.title(\"Distribution of the mean optimal return\")\n",
    "plt.tight_layout()\n",
    "plt.show()"
   ]
  },
  {
   "cell_type": "markdown",
   "id": "pacific-tours",
   "metadata": {},
   "source": [
    "## 3.4 Tightening the Chebyshev Bound\n",
    "The Chebyshev bound computed above is computed with the following step:\n",
    "$$\\Pr(W \\leq W_{\\text{low}}) \\leq \\Pr(|W - \\mu| \\geq |W_{\\text{low}} - \\mu|)$$\n",
    "We invoke Chebyshev to dominate the right hand side. However, we are potentially giving up a lot of slack with the inequality above. Concretely, if the distribution is symmetric, then\n",
    "$$\n",
    "\\Pr(W \\leq W_{\\text{low}}) = \\frac{1}{2}\\Pr(|W - \\mu| \\geq |W_{\\text{low}} - \\mu|)\n",
    "$$\n",
    "so that the original constraint has us dominating a quantity twice as large as necessary. If the distribution of returns is end-period returns is relatively symmetric, then we can tighten the bound. The distribution of end-period returns will be symmetric if each individual stock has a symmetric return distribution."
   ]
  },
  {
   "cell_type": "code",
   "execution_count": 29,
   "id": "printable-daniel",
   "metadata": {},
   "outputs": [
    {
     "name": "stderr",
     "output_type": "stream",
     "text": [
      "100%|██████████| 30/30 [00:02<00:00, 10.49it/s]\n"
     ]
    },
    {
     "data": {
      "image/png": "[encoded data removed]",
      "text/plain": [
       "<Figure size 432x288 with 1 Axes>"
      ]
     },
     "metadata": {
      "needs_background": "light"
     },
     "output_type": "display_data"
    }
   ],
   "source": [
    "shortfall_results_tight = [iterative_portfolio_optimization(\n",
    "    sigma,\n",
    "    indices,\n",
    "    full_means,\n",
    "    full_cov,\n",
    "    shortfall_risk_constraints=[(.95, .7)],\n",
    "    chebyshev=True,\n",
    "    tighten=.5,\n",
    "    optimize_return=True) for sigma in sigmas_wide]\n",
    "shortfall_allocations_tight, shortfall_returns_tight = zip(*shortfall_results_tight)\n",
    "\n",
    "shortfall_results_chebyshev = [iterative_portfolio_optimization(\n",
    "    sigma,\n",
    "    indices,\n",
    "    full_means,\n",
    "    full_cov,\n",
    "    shortfall_risk_constraints=[(.95, .7)],\n",
    "    chebyshev=True,\n",
    "    tighten=1,\n",
    "    optimize_return=True) for sigma in sigmas_wide]\n",
    "shortfall_allocations_chebyshev, shortfall_returns_chebyshev = zip(*shortfall_results_chebyshev)\n",
    "\n",
    "heuristic_results_wide = [iterative_portfolio_optimization(\n",
    "    sigma,\n",
    "    indices,\n",
    "    full_means,\n",
    "    full_cov,\n",
    "    optimize_return=True) for sigma in tqdm(sigmas_wide)]\n",
    "heuristic_allocations_wide, heuristic_returns_wide = zip(*heuristic_results_wide)\n",
    "\n",
    "plt.plot(sigmas_wide, shortfall_returns_chebyshev, label=\"Chebyshev Shortfall Constraint\")\n",
    "plt.plot(sigmas_wide, shortfall_returns_tight, label=\"Tight Chebyshev Shortfall Constraint\")\n",
    "plt.plot(sigmas_wide, heuristic_returns_wide, label=\"Without Shortfall Constraint\")\n",
    "plt.xlabel(\"sigma\")\n",
    "plt.ylabel(\"Expected return\")\n",
    "plt.legend()\n",
    "plt.show()"
   ]
  },
  {
   "cell_type": "markdown",
   "id": "incident-facial",
   "metadata": {},
   "source": [
    "## 3.5 Justifying the Tightening\n",
    "For the tightening to be justified, we must be able to say that\n",
    "$$\n",
    "\\Pr(W \\leq W_{\\text{low}}) \\leq \\frac{1}{2}\\Pr(|W - \\mu| \\geq |W_{\\text{low}} - \\mu|).\n",
    "$$\n",
    "This occurs either when the distribution is symmetric (exact equality) or when there is relatively more mass above $\\mu + (\\mu - W_{\\text{low}})$ than below $W_{\\text{low}}$. For a range of values for $W_{\\text{low}}$, we can estimate the fraction \n",
    "$$\\Pr(W \\leq W_{\\text{low}})/(\\Pr(W \\leq W_{\\text{low}}) + \\Pr(W \\geq 2\\mu - W_{\\text{low}}));\n",
    "$$\n",
    "if it is below .5, the tightening is justified. It appears that as $W_{\\text{low}}$ decreases, the fraction decreases; i.e. the tightening is more justified for more relaxed shortfall constraints."
   ]
  },
  {
   "cell_type": "code",
   "execution_count": 30,
   "id": "revolutionary-samoa",
   "metadata": {},
   "outputs": [
    {
     "data": {
      "image/png": "[encoded data removed]",
      "text/plain": [
       "<Figure size 432x288 with 1 Axes>"
      ]
     },
     "metadata": {
      "needs_background": "light"
     },
     "output_type": "display_data"
    }
   ],
   "source": [
    "lows = np.linspace(.5, .95, 30)\n",
    "mean_fracs = []\n",
    "for low in lows:\n",
    "    counts = [(np.sum(returns[:,i] <= low), np.sum(returns[:,i] >= 2*np.mean(returns[:,i]) - low)) for i in range(101)]\n",
    "    low_fracs = [count[0]/(count[0] + count[1] + 1e-8) for count in counts]\n",
    "    \n",
    "    frac = np.mean(low_fracs)\n",
    "    mean_fracs.append(frac)\n",
    "    \n",
    "plt.plot(lows, mean_fracs)\n",
    "plt.title(\"Relative of mass below left extreme, as a function of left extreme\")\n",
    "plt.xlabel(\"Left extreme (W_low)\")\n",
    "plt.ylabel(\"Fraction of mass below left extreme\")\n",
    "plt.show()"
   ]
  }
 ],
 "metadata": {
  "kernelspec": {
   "display_name": "Python 3",
   "language": "python",
   "name": "python3"
  },
  "language_info": {
   "codemirror_mode": {
    "name": "ipython",
    "version": 3
   },
   "file_extension": ".py",
   "mimetype": "text/x-python",
   "name": "python",
   "nbconvert_exporter": "python",
   "pygments_lexer": "ipython3",
   "version": "3.9.1"
  }
 },
 "nbformat": 4,
 "nbformat_minor": 5
}
